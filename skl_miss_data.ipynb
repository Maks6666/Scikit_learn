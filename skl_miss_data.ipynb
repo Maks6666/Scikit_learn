{
 "cells": [
  {
   "cell_type": "code",
   "execution_count": null,
   "metadata": {},
   "outputs": [],
   "source": [
    "import numpy as np\n",
    "import pandas as pd\n"
   ]
  },
  {
   "cell_type": "code",
   "execution_count": null,
   "metadata": {},
   "outputs": [],
   "source": [
    "# create an array of numpy, which is immediately placed in the dataframe\n",
    "# dataframe format (number of rows and columns) is formed by the reshape(5, 3) function - 5 rows, 3 columns\n",
    "x = pd.DataFrame(np.array([2, 4, 3, 1, 5, np.NaN, 4, 1, np.NaN, 2, 5, 3, 2, np.NaN, 2]).reshape(5, 3))"
   ]
  },
  {
   "cell_type": "code",
   "execution_count": null,
   "metadata": {},
   "outputs": [],
   "source": [
    "# set column names\n",
    "x.columns = [\"f_1\", \"f_2\", \"f_3\"]"
   ]
  },
  {
   "cell_type": "code",
   "execution_count": null,
   "metadata": {},
   "outputs": [
    {
     "data": {
      "text/html": [
       "<div>\n",
       "<style scoped>\n",
       "    .dataframe tbody tr th:only-of-type {\n",
       "        vertical-align: middle;\n",
       "    }\n",
       "\n",
       "    .dataframe tbody tr th {\n",
       "        vertical-align: top;\n",
       "    }\n",
       "\n",
       "    .dataframe thead th {\n",
       "        text-align: right;\n",
       "    }\n",
       "</style>\n",
       "<table border=\"1\" class=\"dataframe\">\n",
       "  <thead>\n",
       "    <tr style=\"text-align: right;\">\n",
       "      <th></th>\n",
       "      <th>f_1</th>\n",
       "      <th>f_2</th>\n",
       "      <th>f_3</th>\n",
       "    </tr>\n",
       "  </thead>\n",
       "  <tbody>\n",
       "    <tr>\n",
       "      <th>0</th>\n",
       "      <td>2.0</td>\n",
       "      <td>4.0</td>\n",
       "      <td>3.0</td>\n",
       "    </tr>\n",
       "    <tr>\n",
       "      <th>1</th>\n",
       "      <td>1.0</td>\n",
       "      <td>5.0</td>\n",
       "      <td>NaN</td>\n",
       "    </tr>\n",
       "    <tr>\n",
       "      <th>2</th>\n",
       "      <td>4.0</td>\n",
       "      <td>1.0</td>\n",
       "      <td>NaN</td>\n",
       "    </tr>\n",
       "    <tr>\n",
       "      <th>3</th>\n",
       "      <td>2.0</td>\n",
       "      <td>5.0</td>\n",
       "      <td>3.0</td>\n",
       "    </tr>\n",
       "    <tr>\n",
       "      <th>4</th>\n",
       "      <td>2.0</td>\n",
       "      <td>NaN</td>\n",
       "      <td>2.0</td>\n",
       "    </tr>\n",
       "  </tbody>\n",
       "</table>\n",
       "</div>"
      ],
      "text/plain": [
       "   f_1  f_2  f_3\n",
       "0  2.0  4.0  3.0\n",
       "1  1.0  5.0  NaN\n",
       "2  4.0  1.0  NaN\n",
       "3  2.0  5.0  3.0\n",
       "4  2.0  NaN  2.0"
      ]
     },
     "execution_count": 16,
     "metadata": {},
     "output_type": "execute_result"
    }
   ],
   "source": [
    "x"
   ]
  },
  {
   "cell_type": "code",
   "execution_count": null,
   "metadata": {},
   "outputs": [
    {
     "data": {
      "text/plain": [
       "f_1    0\n",
       "f_2    1\n",
       "f_3    2\n",
       "dtype: int64"
      ]
     },
     "execution_count": 17,
     "metadata": {},
     "output_type": "execute_result"
    }
   ],
   "source": [
    "# number of empty (missing) values ​​in each column\n",
    "x.isnull().sum()"
   ]
  },
  {
   "cell_type": "code",
   "execution_count": null,
   "metadata": {},
   "outputs": [],
   "source": [
    "# create an indicator of missing values ​​in the data.\n",
    "\n",
    "# The Missing Value Indicator is a special variable or matrix\n",
    "# which helps track and indicate the location of missing values ​​in a data set.\n",
    "\n",
    "from sklearn.impute import MissingIndicator\n",
    "\n",
    "# A MissingIndicator object is created indicating\n",
    "# that missing values ​​in the data are represented by the value np.NaN (Not a Number).\n",
    "indicator = MissingIndicator(missing_values=np.NaN)\n",
    "\n",
    "# Training and applying the indicator to data x. The result will be a new matrix,\n",
    "# in which a flag will be set for each missing value.\n",
    "# If a value in the data was missing, the corresponding element in the new matrix will be 1 (true),\n",
    "# otherwise - 0 (false).\n",
    "indicator = indicator.fit_transform(x)"
   ]
  },
  {
   "cell_type": "markdown",
   "metadata": {},
   "source": []
  },
  {
   "cell_type": "code",
   "execution_count": null,
   "metadata": {},
   "outputs": [],
   "source": [
    "# convert the indicator matrix into a dataframe\n",
    "# we mark only two columns in it - “f1”, “f2”, since the missing values ​​in the X dataframe are only in two columns\n",
    "# if the number of columns in the new dataframe does not correspond to the number of columns with missing values ​​in the result, then this\n",
    "# will cause errors\n",
    "\n",
    "# simply put, the indicator is a dataframe with exclusively empty values\n",
    "\n",
    "indicator = pd.DataFrame(indicator, columns=[\"f1\", \"f2\"])"
   ]
  },
  {
   "cell_type": "code",
   "execution_count": null,
   "metadata": {},
   "outputs": [
    {
     "data": {
      "text/html": [
       "<div>\n",
       "<style scoped>\n",
       "    .dataframe tbody tr th:only-of-type {\n",
       "        vertical-align: middle;\n",
       "    }\n",
       "\n",
       "    .dataframe tbody tr th {\n",
       "        vertical-align: top;\n",
       "    }\n",
       "\n",
       "    .dataframe thead th {\n",
       "        text-align: right;\n",
       "    }\n",
       "</style>\n",
       "<table border=\"1\" class=\"dataframe\">\n",
       "  <thead>\n",
       "    <tr style=\"text-align: right;\">\n",
       "      <th></th>\n",
       "      <th>f1</th>\n",
       "      <th>f2</th>\n",
       "    </tr>\n",
       "  </thead>\n",
       "  <tbody>\n",
       "    <tr>\n",
       "      <th>0</th>\n",
       "      <td>False</td>\n",
       "      <td>False</td>\n",
       "    </tr>\n",
       "    <tr>\n",
       "      <th>1</th>\n",
       "      <td>False</td>\n",
       "      <td>True</td>\n",
       "    </tr>\n",
       "    <tr>\n",
       "      <th>2</th>\n",
       "      <td>False</td>\n",
       "      <td>True</td>\n",
       "    </tr>\n",
       "    <tr>\n",
       "      <th>3</th>\n",
       "      <td>False</td>\n",
       "      <td>False</td>\n",
       "    </tr>\n",
       "    <tr>\n",
       "      <th>4</th>\n",
       "      <td>True</td>\n",
       "      <td>False</td>\n",
       "    </tr>\n",
       "  </tbody>\n",
       "</table>\n",
       "</div>"
      ],
      "text/plain": [
       "      f1     f2\n",
       "0  False  False\n",
       "1  False   True\n",
       "2  False   True\n",
       "3  False  False\n",
       "4   True  False"
      ]
     },
     "execution_count": 20,
     "metadata": {},
     "output_type": "execute_result"
    }
   ],
   "source": [
    "indicator"
   ]
  },
  {
   "cell_type": "code",
   "execution_count": 30,
   "metadata": {},
   "outputs": [
    {
     "name": "stdout",
     "output_type": "stream",
     "text": [
      "    f1    f2        f3\n",
      "0  2.0  4.00  3.000000\n",
      "1  1.0  5.00  2.666667\n",
      "2  4.0  1.00  2.666667\n",
      "3  2.0  5.00  3.000000\n",
      "4  2.0  3.75  2.000000 \n",
      "\n",
      "   f_1  f_2  f_3\n",
      "0  2.0  4.0  3.0\n",
      "1  1.0  5.0  NaN\n",
      "2  4.0  1.0  NaN\n",
      "3  2.0  5.0  3.0\n",
      "4  2.0  NaN  2.0\n"
     ]
    }
   ],
   "source": [
    "# implementation of the imputing method for processing null (missing) dataset values\n",
    "from sklearn.impute import SimpleImputer\n",
    "\n",
    "\n",
    "# initialize the object for imputing\n",
    "# defines a strategy for replacing missing values. In this case strategy='mean',\n",
    "# which means using the average to replace missing values.\n",
    "\n",
    "# in general strategy can take the following values:\n",
    "\n",
    "# 'mean' (default): Replaces missing values ​​with the mean of the column.\n",
    "# 'median': Replaces missing values ​​with the median value of the column.\n",
    "# 'most_frequent': Replaces missing values ​​with the most frequently occurring value in the column.\n",
    "# 'constant': Replaces missing values ​​with a constant specified by fill_value.\n",
    "\n",
    "\n",
    "imp = SimpleImputer(missing_values=np.NaN, strategy='mean')\n",
    "res = imp.fit_transform(x)\n",
    "\n",
    "new_res = pd.DataFrame(res)\n",
    "new_res.columns = [\"f1\", \"f2\", \"f3\"]\n",
    "print(new_res, '\\n')\n",
    "\n",
    "print(x)\n"
   ]
  },
  {
   "cell_type": "code",
   "execution_count": 31,
   "metadata": {},
   "outputs": [
    {
     "data": {
      "text/plain": [
       "f1    0\n",
       "f2    0\n",
       "f3    0\n",
       "dtype: int64"
      ]
     },
     "execution_count": 31,
     "metadata": {},
     "output_type": "execute_result"
    }
   ],
   "source": [
    "new_res.isnull().sum()"
   ]
  },
  {
   "cell_type": "code",
   "execution_count": 32,
   "metadata": {},
   "outputs": [
    {
     "name": "stdout",
     "output_type": "stream",
     "text": [
      "    f1   f2   f3\n",
      "0  2.0  4.0  3.0\n",
      "1  1.0  5.0  3.0\n",
      "2  4.0  1.0  3.0\n",
      "3  2.0  5.0  3.0\n",
      "4  2.0  4.5  2.0 \n",
      "\n",
      "   f_1  f_2  f_3\n",
      "0  2.0  4.0  3.0\n",
      "1  1.0  5.0  NaN\n",
      "2  4.0  1.0  NaN\n",
      "3  2.0  5.0  3.0\n",
      "4  2.0  NaN  2.0\n"
     ]
    }
   ],
   "source": [
    "# repeat the experiment using a different strategy\n",
    "\n",
    "from sklearn.impute import SimpleImputer\n",
    "imp = SimpleImputer(missing_values=np.NaN, strategy='median')\n",
    "res = imp.fit_transform(x)\n",
    "\n",
    "new_res = pd.DataFrame(res)\n",
    "new_res.columns = [\"f1\", \"f2\", \"f3\"]\n",
    "print(new_res, '\\n')\n",
    "\n",
    "print(x)\n"
   ]
  },
  {
   "cell_type": "code",
   "execution_count": 33,
   "metadata": {},
   "outputs": [
    {
     "name": "stdout",
     "output_type": "stream",
     "text": [
      "    f1   f2   f3\n",
      "0  2.0  4.0  3.0\n",
      "1  1.0  5.0  3.0\n",
      "2  4.0  1.0  3.0\n",
      "3  2.0  5.0  3.0\n",
      "4  2.0  5.0  2.0 \n",
      "\n",
      "   f_1  f_2  f_3\n",
      "0  2.0  4.0  3.0\n",
      "1  1.0  5.0  NaN\n",
      "2  4.0  1.0  NaN\n",
      "3  2.0  5.0  3.0\n",
      "4  2.0  NaN  2.0\n"
     ]
    }
   ],
   "source": [
    "from sklearn.impute import SimpleImputer\n",
    "imp = SimpleImputer(missing_values=np.NaN, strategy='most_frequent')\n",
    "res = imp.fit_transform(x)\n",
    "\n",
    "new_res = pd.DataFrame(res)\n",
    "new_res.columns = [\"f1\", \"f2\", \"f3\"]\n",
    "print(new_res, '\\n')\n",
    "\n",
    "print(x)\n"
   ]
  },
  {
   "cell_type": "code",
   "execution_count": 34,
   "metadata": {},
   "outputs": [],
   "source": [
    "# operation to remove rows containing missing values ​​from DataFrame x in pandas.\n",
    "\n",
    "\n",
    "# axis=0 is a parameter indicating that the delete operation is applied to rows (observations) in the DataFrame.\n",
    "# If axis=1, then the operation will be applied to columns.\n",
    "\n",
    "new_data = x.dropna(axis=0)"
   ]
  },
  {
   "cell_type": "code",
   "execution_count": 35,
   "metadata": {},
   "outputs": [
    {
     "data": {
      "text/html": [
       "<div>\n",
       "<style scoped>\n",
       "    .dataframe tbody tr th:only-of-type {\n",
       "        vertical-align: middle;\n",
       "    }\n",
       "\n",
       "    .dataframe tbody tr th {\n",
       "        vertical-align: top;\n",
       "    }\n",
       "\n",
       "    .dataframe thead th {\n",
       "        text-align: right;\n",
       "    }\n",
       "</style>\n",
       "<table border=\"1\" class=\"dataframe\">\n",
       "  <thead>\n",
       "    <tr style=\"text-align: right;\">\n",
       "      <th></th>\n",
       "      <th>f_1</th>\n",
       "      <th>f_2</th>\n",
       "      <th>f_3</th>\n",
       "    </tr>\n",
       "  </thead>\n",
       "  <tbody>\n",
       "    <tr>\n",
       "      <th>0</th>\n",
       "      <td>2.0</td>\n",
       "      <td>4.0</td>\n",
       "      <td>3.0</td>\n",
       "    </tr>\n",
       "    <tr>\n",
       "      <th>3</th>\n",
       "      <td>2.0</td>\n",
       "      <td>5.0</td>\n",
       "      <td>3.0</td>\n",
       "    </tr>\n",
       "  </tbody>\n",
       "</table>\n",
       "</div>"
      ],
      "text/plain": [
       "   f_1  f_2  f_3\n",
       "0  2.0  4.0  3.0\n",
       "3  2.0  5.0  3.0"
      ]
     },
     "execution_count": 35,
     "metadata": {},
     "output_type": "execute_result"
    }
   ],
   "source": [
    "new_data"
   ]
  }
 ],
 "metadata": {
  "kernelspec": {
   "display_name": "Python 3",
   "language": "python",
   "name": "python3"
  },
  "language_info": {
   "codemirror_mode": {
    "name": "ipython",
    "version": 3
   },
   "file_extension": ".py",
   "mimetype": "text/x-python",
   "name": "python",
   "nbconvert_exporter": "python",
   "pygments_lexer": "ipython3",
   "version": "3.11.4"
  }
 },
 "nbformat": 4,
 "nbformat_minor": 2
}
